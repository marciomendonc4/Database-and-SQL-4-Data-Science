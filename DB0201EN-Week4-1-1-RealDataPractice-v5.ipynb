{
 "cells": [
  {
   "cell_type": "markdown",
   "metadata": {},
   "source": [
    "<center>\n",
    "    <img src=\"https://s3-api.us-geo.objectstorage.softlayer.net/cf-courses-data/CognitiveClass/Logos/organization_logo/organization_logo.png\" width=\"300\" alt=\"cognitiveclass.ai logo\"  />\n",
    "</center>\n",
    "\n",
    "# Working with a real world data-set using SQL and Python\n",
    "\n",
    "Estaimted time needed: **30** minutes\n",
    "\n",
    "## Objectives\n",
    "\n",
    "After complting this lab you will be able to:\n",
    "\n",
    "*   Understand the dataset for Chicago Public School level performance\n",
    "*   Store the dataset in an Db2 database on IBM Cloud instance\n",
    "*   Retrieve metadata about tables and columns and query data from mixed case columns\n",
    "*   Solve example problems to practice your SQL skills including using built-in database functions\n"
   ]
  },
  {
   "cell_type": "markdown",
   "metadata": {},
   "source": [
    "## Chicago Public Schools - Progress Report Cards (2011-2012)\n",
    "\n",
    "The city of Chicago released a dataset showing all school level performance data used to create School Report Cards for the 2011-2012 school year. The dataset is available from the Chicago Data Portal: [https://data.cityofchicago.org/Education/Chicago-Public-Schools-Progress-Report-Cards-2011-/9xs2-f89t](https://data.cityofchicago.org/Education/Chicago-Public-Schools-Progress-Report-Cards-2011-/9xs2-f89t?utm_medium=Exinfluencer&utm_source=Exinfluencer&utm_content=000026UJ&utm_term=10006555&utm_id=NA-SkillsNetwork-Channel-SkillsNetworkCoursesIBMDeveloperSkillsNetworkDB0201ENSkillsNetwork20127838-2021-01-01&cm_mmc=Email_Newsletter-\\_-Developer_Ed%2BTech-\\_-WW_WW-\\_-SkillsNetwork-Courses-IBMDeveloperSkillsNetwork-DB0201EN-SkillsNetwork-20127838&cm_mmca1=000026UJ&cm_mmca2=10006555&cm_mmca3=M12345678&cvosrc=email.Newsletter.M12345678&cvo_campaign=000026UJ)\n",
    "\n",
    "This dataset includes a large number of metrics. Start by familiarizing yourself with the types of metrics in the database: [https://data.cityofchicago.org/api/assets/AAD41A13-BE8A-4E67-B1F5-86E711E09D5F?download=true](https://data.cityofchicago.org/api/assets/AAD41A13-BE8A-4E67-B1F5-86E711E09D5F?utm_medium=Exinfluencer&utm_source=Exinfluencer&utm_content=000026UJ&utm_term=10006555&utm_id=NA-SkillsNetwork-Channel-SkillsNetworkCoursesIBMDeveloperSkillsNetworkDB0201ENSkillsNetwork20127838-2021-01-01&download=true&cm_mmc=Email_Newsletter-\\_-Developer_Ed%2BTech-\\_-WW_WW-\\_-SkillsNetwork-Courses-IBMDeveloperSkillsNetwork-DB0201EN-SkillsNetwork-20127838&cm_mmca1=000026UJ&cm_mmca2=10006555&cm_mmca3=M12345678&cvosrc=email.Newsletter.M12345678&cvo_campaign=000026UJ)\n",
    "\n",
    "**NOTE**:\n",
    "\n",
    "Do not download the dataset directly from City of Chicago portal. Instead download a static copy which is a more database friendly version from this <a href=\"https://cf-courses-data.s3.us.cloud-object-storage.appdomain.cloud/IBMDeveloperSkillsNetwork-DB0201EN-SkillsNetwork/labs/FinalModule_Coursera_V5/data/ChicagoPublicSchools.csv?utm_medium=Exinfluencer&utm_source=Exinfluencer&utm_content=000026UJ&utm_term=10006555&utm_id=NA-SkillsNetwork-Channel-SkillsNetworkCoursesIBMDeveloperSkillsNetworkDB0201ENSkillsNetwork20127838-2021-01-01\">link</a>.\n",
    "\n",
    "Now review some of its contents.\n"
   ]
  },
  {
   "cell_type": "markdown",
   "metadata": {},
   "source": [
    "### Store the dataset in a Table\n",
    "\n",
    "In many cases the dataset to be analyzed is available as a .CSV (comma separated values) file, perhaps on the internet. To analyze the data using SQL, it first needs to be stored in the database.\n",
    "\n",
    "While it is easier to read the dataset into a Pandas dataframe and then PERSIST it into the database as we saw in the previous lab, it results in mapping to default datatypes which may not be optimal for SQL querying. For example a long textual field may map to a CLOB instead of a VARCHAR.\n",
    "\n",
    "Therefore, **it is highly recommended to manually load the table using the database console LOAD tool, as indicated in Week 2 Lab 1 Part II**. The only difference with that lab is that in Step 5 of the instructions you will need to click on create \"(+) New Table\" and specify the name of the table you want to create and then click \"Next\".\n",
    "\n",
    "##### Now open the Db2 console, open the LOAD tool, Select / Drag the .CSV file for the CHICAGO PUBLIC SCHOOLS dataset and load the dataset into a new table called **SCHOOLS**.\n",
    "\n",
    "<a href=\"https://cognitiveclass.ai/?utm_medium=Exinfluencer&utm_source=Exinfluencer&utm_content=000026UJ&utm_term=10006555&utm_id=NA-SkillsNetwork-Channel-SkillsNetworkCoursesIBMDeveloperSkillsNetworkDB0201ENSkillsNetwork20127838-2021-01-01\"><img src = \"https://ibm.box.com/shared/static/uc4xjh1uxcc78ks1i18v668simioz4es.jpg\"></a>\n"
   ]
  },
  {
   "cell_type": "markdown",
   "metadata": {},
   "source": [
    "### Connect to the database\n",
    "\n",
    "Let us now load the ipython-sql  extension and establish a connection with the database\n",
    "\n",
    "The following modules are pre-installed in the Skills Network Labs environment. However if you run this notebook commands in a different Jupyter environment (e.g. Watson Studio or Ananconda) you may need to install these libraries by removing the `#` sign before `!pip` in the code cell below.\n"
   ]
  },
  {
   "cell_type": "code",
   "execution_count": null,
   "metadata": {},
   "outputs": [],
   "source": [
    "# These libraries are pre-installed in SN Labs. If running in another environment please uncomment lines below to install them:\n",
    "# !pip install --force-reinstall ibm_db==3.1.0 ibm_db_sa==0.3.3\n",
    "# Ensure we don't load_ext with sqlalchemy>=1.4 (incompadible)\n",
    "# !pip uninstall sqlalchemy==1.4 -y && pip install sqlalchemy==1.3.24\n",
    "# !pip install ipython-sql"
   ]
  },
  {
   "cell_type": "code",
   "execution_count": 2,
   "metadata": {},
   "outputs": [],
   "source": [
    "%load_ext sql"
   ]
  },
  {
   "cell_type": "code",
   "execution_count": 3,
   "metadata": {},
   "outputs": [
    {
     "data": {
      "text/plain": [
       "'Connected: qqc17779@BLUDB'"
      ]
     },
     "execution_count": 3,
     "metadata": {},
     "output_type": "execute_result"
    }
   ],
   "source": [
    "# Enter the connection string for your Db2 on Cloud database instance below\n",
    "# %sql ibm_db_sa://my-username:my-password@my-hostname:my-port/my-db-name?security=SSL\n",
    "%sql ibm_db_sa://qqc17779:npA7uRzhXpDYcayl@815fa4db-dc03-4c70-869a-a9cc13f33084.bs2io90l08kqb1od8lcg.databases.appdomain.cloud:30367/BLUDB?security=SSL"
   ]
  },
  {
   "cell_type": "markdown",
   "metadata": {},
   "source": [
    "### Query the database system catalog to retrieve table metadata\n",
    "\n",
    "##### You can verify that the table creation was successful by retrieving the list of all tables in your schema and checking whether the SCHOOLS table was created\n"
   ]
  },
  {
   "cell_type": "code",
   "execution_count": 4,
   "metadata": {},
   "outputs": [
    {
     "name": "stdout",
     "output_type": "stream",
     "text": [
      " * ibm_db_sa://qqc17779:***@815fa4db-dc03-4c70-869a-a9cc13f33084.bs2io90l08kqb1od8lcg.databases.appdomain.cloud:30367/BLUDB\n",
      "Done.\n"
     ]
    },
    {
     "data": {
      "text/html": [
       "<table>\n",
       "    <thead>\n",
       "        <tr>\n",
       "            <th>tabschema</th>\n",
       "            <th>tabname</th>\n",
       "            <th>create_time</th>\n",
       "        </tr>\n",
       "    </thead>\n",
       "    <tbody>\n",
       "        <tr>\n",
       "            <td>QQC17779</td>\n",
       "            <td>SCHOOLS</td>\n",
       "            <td>2022-03-30 13:09:36.939593</td>\n",
       "        </tr>\n",
       "    </tbody>\n",
       "</table>"
      ],
      "text/plain": [
       "[('QQC17779', 'SCHOOLS', datetime.datetime(2022, 3, 30, 13, 9, 36, 939593))]"
      ]
     },
     "execution_count": 4,
     "metadata": {},
     "output_type": "execute_result"
    }
   ],
   "source": [
    "# type in your query to retrieve list of all tables in the database for your db2 schema (username)\n",
    "%sql SELECT TABSCHEMA, TABNAME, CREATE_TIME FROM SYSCAT.TABLES WHERE TABNAME = 'SCHOOLS';"
   ]
  },
  {
   "cell_type": "markdown",
   "metadata": {},
   "source": [
    "Double-click **here** for a hint\n",
    "\n",
    "<!--\n",
    "In Db2 the system catalog table called SYSCAT.TABLES contains the table metadata\n",
    "-->\n"
   ]
  },
  {
   "cell_type": "markdown",
   "metadata": {},
   "source": [
    "Double-click **here** for the solution.\n",
    "\n",
    "<!-- Solution:\n",
    "\n",
    "%sql select TABSCHEMA, TABNAME, CREATE_TIME from SYSCAT.TABLES where TABSCHEMA='YOUR-DB2-USERNAME'\n",
    "\n",
    "or, you can retrieve list of all tables where the schema name is not one of the system created ones:\n",
    "\n",
    "%sql select TABSCHEMA, TABNAME, CREATE_TIME from SYSCAT.TABLES \\\n",
    "      where TABSCHEMA not in ('SYSIBM', 'SYSCAT', 'SYSSTAT', 'SYSIBMADM', 'SYSTOOLS', 'SYSPUBLIC')\n",
    "      \n",
    "or, just query for a specifc table that you want to verify exists in the database\n",
    "%sql select * from SYSCAT.TABLES where TABNAME = 'SCHOOLS'\n",
    "\n",
    "-->\n"
   ]
  },
  {
   "cell_type": "markdown",
   "metadata": {},
   "source": [
    "### Query the database system catalog to retrieve column metadata\n",
    "\n",
    "##### The SCHOOLS table contains a large number of columns. How many columns does this table have?\n"
   ]
  },
  {
   "cell_type": "code",
   "execution_count": 8,
   "metadata": {},
   "outputs": [
    {
     "name": "stdout",
     "output_type": "stream",
     "text": [
      " * ibm_db_sa://qqc17779:***@815fa4db-dc03-4c70-869a-a9cc13f33084.bs2io90l08kqb1od8lcg.databases.appdomain.cloud:30367/BLUDB\n",
      "Done.\n"
     ]
    },
    {
     "data": {
      "text/html": [
       "<table>\n",
       "    <thead>\n",
       "        <tr>\n",
       "            <th>1</th>\n",
       "        </tr>\n",
       "    </thead>\n",
       "    <tbody>\n",
       "        <tr>\n",
       "            <td>78</td>\n",
       "        </tr>\n",
       "    </tbody>\n",
       "</table>"
      ],
      "text/plain": [
       "[(78,)]"
      ]
     },
     "execution_count": 8,
     "metadata": {},
     "output_type": "execute_result"
    }
   ],
   "source": [
    "# type in your query to retrieve the number of columns in the SCHOOLS table\n",
    "%sql SELECT COUNT(*) \\\n",
    "FROM SYSCAT.COLUMNS \\\n",
    "WHERE TABNAME = 'SCHOOLS';"
   ]
  },
  {
   "cell_type": "markdown",
   "metadata": {},
   "source": [
    "Double-click **here** for a hint\n",
    "\n",
    "<!--\n",
    "In Db2 the system catalog table called SYSCAT.COLUMNS contains the column metadata\n",
    "-->\n"
   ]
  },
  {
   "cell_type": "markdown",
   "metadata": {},
   "source": [
    "Double-click **here** for the solution.\n",
    "\n",
    "<!-- Solution:\n",
    "\n",
    "%sql select count(*) from SYSCAT.COLUMNS where TABNAME = 'SCHOOLS'\n",
    "\n",
    "-->\n"
   ]
  },
  {
   "cell_type": "markdown",
   "metadata": {},
   "source": [
    "Now retrieve the the list of columns in SCHOOLS table and their column type (datatype) and length.\n"
   ]
  },
  {
   "cell_type": "code",
   "execution_count": 53,
   "metadata": {},
   "outputs": [
    {
     "name": "stdout",
     "output_type": "stream",
     "text": [
      " * ibm_db_sa://qqc17779:***@815fa4db-dc03-4c70-869a-a9cc13f33084.bs2io90l08kqb1od8lcg.databases.appdomain.cloud:30367/BLUDB\n",
      "Done.\n"
     ]
    },
    {
     "data": {
      "text/html": [
       "<table>\n",
       "    <thead>\n",
       "        <tr>\n",
       "            <th>colname</th>\n",
       "            <th>typename</th>\n",
       "            <th>length</th>\n",
       "        </tr>\n",
       "    </thead>\n",
       "    <tbody>\n",
       "        <tr>\n",
       "            <td>AVERAGE_STUDENT_ATTENDANCE</td>\n",
       "            <td>VARCHAR</td>\n",
       "            <td>6</td>\n",
       "        </tr>\n",
       "        <tr>\n",
       "            <td>AVERAGE_TEACHER_ATTENDANCE</td>\n",
       "            <td>VARCHAR</td>\n",
       "            <td>6</td>\n",
       "        </tr>\n",
       "    </tbody>\n",
       "</table>"
      ],
      "text/plain": [
       "[('AVERAGE_STUDENT_ATTENDANCE', 'VARCHAR', 6),\n",
       " ('AVERAGE_TEACHER_ATTENDANCE', 'VARCHAR', 6)]"
      ]
     },
     "execution_count": 53,
     "metadata": {},
     "output_type": "execute_result"
    }
   ],
   "source": [
    "# type in your query to retrieve all column names in the SCHOOLS table along with their datatypes and length\n",
    "%sql SELECT COLNAME, TYPENAME, LENGTH \\\n",
    "FROM SYSCAT.COLUMNS \\\n",
    "WHERE TABNAME = 'SCHOOLS' AND COLNAME LIKE 'AVERAGE%';"
   ]
  },
  {
   "cell_type": "markdown",
   "metadata": {},
   "source": [
    "Double-click **here** for the solution.\n",
    "\n",
    "<!-- Solution:\n",
    "\n",
    "%sql select COLNAME, TYPENAME, LENGTH from SYSCAT.COLUMNS where TABNAME = 'SCHOOLS'\n",
    "\n",
    "or\n",
    "\n",
    "%sql select distinct(NAME), COLTYPE, LENGTH from SYSIBM.SYSCOLUMNS where TBNAME = 'SCHOOLS'\n",
    "\n",
    "-->\n"
   ]
  },
  {
   "cell_type": "markdown",
   "metadata": {},
   "source": [
    "### Questions\n",
    "\n",
    "1.  Is the column name for the \"SCHOOL ID\" attribute in upper or mixed case?\n",
    "UPPER.\n",
    "2.  What is the name of \"Community Area Name\" column in your table? Does it have spaces?\n",
    "COMMUNITY_AREA_NAME. No spaces, just underscores.\n",
    "3.  Are there any columns in whose names the spaces and paranthesis (round brackets) have been replaced by the underscore character \"\\_\"?\n",
    "By this combination '\\_': NO. By double underscores and spaces: YES"
   ]
  },
  {
   "cell_type": "markdown",
   "metadata": {},
   "source": [
    "## Problems\n",
    "\n",
    "### Problem 1\n",
    "\n",
    "##### How many Elementary Schools are in the dataset?\n"
   ]
  },
  {
   "cell_type": "code",
   "execution_count": 46,
   "metadata": {},
   "outputs": [
    {
     "name": "stdout",
     "output_type": "stream",
     "text": [
      " * ibm_db_sa://qqc17779:***@815fa4db-dc03-4c70-869a-a9cc13f33084.bs2io90l08kqb1od8lcg.databases.appdomain.cloud:30367/BLUDB\n",
      "Done.\n"
     ]
    },
    {
     "data": {
      "text/html": [
       "<table>\n",
       "    <thead>\n",
       "        <tr>\n",
       "            <th>1</th>\n",
       "        </tr>\n",
       "    </thead>\n",
       "    <tbody>\n",
       "        <tr>\n",
       "            <td>462</td>\n",
       "        </tr>\n",
       "    </tbody>\n",
       "</table>"
      ],
      "text/plain": [
       "[(462,)]"
      ]
     },
     "execution_count": 46,
     "metadata": {},
     "output_type": "execute_result"
    }
   ],
   "source": [
    "%sql SELECT COUNT(*) \\\n",
    "FROM SCHOOLS \\\n",
    "WHERE \"Elementary, Middle, or High School\" = 'ES';"
   ]
  },
  {
   "cell_type": "markdown",
   "metadata": {},
   "source": [
    "Double-click **here** for a hint\n",
    "\n",
    "<!--\n",
    "Which column specifies the school type e.g. 'ES', 'MS', 'HS'? (\"Elementary School, Middle School, High School\")\n",
    "-->\n"
   ]
  },
  {
   "cell_type": "markdown",
   "metadata": {},
   "source": [
    "Double-click **here** for another hint\n",
    "\n",
    "<!--\n",
    "Does the column name have mixed case, spaces or other special characters?\n",
    "If so, ensure you use double quotes around the \"Name of the Column\"\n",
    "-->\n"
   ]
  },
  {
   "cell_type": "markdown",
   "metadata": {},
   "source": [
    "Double-click **here** for the solution.\n",
    "\n",
    "<!-- Solution:\n",
    "\n",
    "%sql select count(*) from SCHOOLS where \"Elementary, Middle, or High School\" = 'ES'\n",
    "\n",
    "Correct answer: 462\n",
    "\n",
    "-->\n"
   ]
  },
  {
   "cell_type": "markdown",
   "metadata": {},
   "source": [
    "### Problem 2\n",
    "\n",
    "##### What is the highest Safety Score?\n"
   ]
  },
  {
   "cell_type": "code",
   "execution_count": 47,
   "metadata": {},
   "outputs": [
    {
     "name": "stdout",
     "output_type": "stream",
     "text": [
      " * ibm_db_sa://qqc17779:***@815fa4db-dc03-4c70-869a-a9cc13f33084.bs2io90l08kqb1od8lcg.databases.appdomain.cloud:30367/BLUDB\n",
      "Done.\n"
     ]
    },
    {
     "data": {
      "text/html": [
       "<table>\n",
       "    <thead>\n",
       "        <tr>\n",
       "            <th>1</th>\n",
       "        </tr>\n",
       "    </thead>\n",
       "    <tbody>\n",
       "        <tr>\n",
       "            <td>99</td>\n",
       "        </tr>\n",
       "    </tbody>\n",
       "</table>"
      ],
      "text/plain": [
       "[(99,)]"
      ]
     },
     "execution_count": 47,
     "metadata": {},
     "output_type": "execute_result"
    }
   ],
   "source": [
    "%sql SELECT MAX(SAFETY_SCORE) \\\n",
    "FROM SCHOOLS"
   ]
  },
  {
   "cell_type": "markdown",
   "metadata": {},
   "source": [
    "Double-click **here** for a hint\n",
    "\n",
    "<!--\n",
    "Use the MAX() function\n",
    "-->\n"
   ]
  },
  {
   "cell_type": "markdown",
   "metadata": {},
   "source": [
    "Double-click **here** for the solution.\n",
    "\n",
    "<!-- Hint:\n",
    "\n",
    "%sql select MAX(Safety_Score) AS MAX_SAFETY_SCORE from SCHOOLS\n",
    "\n",
    "Correct answer: 99\n",
    "-->\n"
   ]
  },
  {
   "cell_type": "markdown",
   "metadata": {},
   "source": [
    "### Problem 3\n",
    "\n",
    "##### Which schools have highest Safety Score?\n"
   ]
  },
  {
   "cell_type": "code",
   "execution_count": 51,
   "metadata": {},
   "outputs": [
    {
     "name": "stdout",
     "output_type": "stream",
     "text": [
      " * ibm_db_sa://qqc17779:***@815fa4db-dc03-4c70-869a-a9cc13f33084.bs2io90l08kqb1od8lcg.databases.appdomain.cloud:30367/BLUDB\n",
      "Done.\n"
     ]
    },
    {
     "data": {
      "text/html": [
       "<table>\n",
       "    <thead>\n",
       "        <tr>\n",
       "            <th>school_id</th>\n",
       "            <th>name_of_school</th>\n",
       "            <th>safety_score</th>\n",
       "        </tr>\n",
       "    </thead>\n",
       "    <tbody>\n",
       "        <tr>\n",
       "            <td>610038</td>\n",
       "            <td>Abraham Lincoln Elementary School</td>\n",
       "            <td>99</td>\n",
       "        </tr>\n",
       "        <tr>\n",
       "            <td>609799</td>\n",
       "            <td>Alexander Graham Bell Elementary School</td>\n",
       "            <td>99</td>\n",
       "        </tr>\n",
       "        <tr>\n",
       "            <td>610084</td>\n",
       "            <td>Annie Keller Elementary Gifted Magnet School</td>\n",
       "            <td>99</td>\n",
       "        </tr>\n",
       "        <tr>\n",
       "            <td>609820</td>\n",
       "            <td>Augustus H Burley Elementary School</td>\n",
       "            <td>99</td>\n",
       "        </tr>\n",
       "        <tr>\n",
       "            <td>610132</td>\n",
       "            <td>Edgar Allan Poe Elementary Classical School</td>\n",
       "            <td>99</td>\n",
       "        </tr>\n",
       "        <tr>\n",
       "            <td>609901</td>\n",
       "            <td>Edgebrook Elementary School</td>\n",
       "            <td>99</td>\n",
       "        </tr>\n",
       "        <tr>\n",
       "            <td>610073</td>\n",
       "            <td>Ellen Mitchell Elementary School</td>\n",
       "            <td>99</td>\n",
       "        </tr>\n",
       "        <tr>\n",
       "            <td>610066</td>\n",
       "            <td>James E McDade Elementary Classical School</td>\n",
       "            <td>99</td>\n",
       "        </tr>\n",
       "        <tr>\n",
       "            <td>609803</td>\n",
       "            <td>James G Blaine Elementary School</td>\n",
       "            <td>99</td>\n",
       "        </tr>\n",
       "        <tr>\n",
       "            <td>610033</td>\n",
       "            <td>LaSalle Elementary Language Academy</td>\n",
       "            <td>99</td>\n",
       "        </tr>\n",
       "        <tr>\n",
       "            <td>610355</td>\n",
       "            <td>Mary E Courtenay Elementary Language Arts Center</td>\n",
       "            <td>99</td>\n",
       "        </tr>\n",
       "        <tr>\n",
       "            <td>609749</td>\n",
       "            <td>Northside College Preparatory High School</td>\n",
       "            <td>99</td>\n",
       "        </tr>\n",
       "        <tr>\n",
       "            <td>609744</td>\n",
       "            <td>Northside Learning Center High School</td>\n",
       "            <td>99</td>\n",
       "        </tr>\n",
       "        <tr>\n",
       "            <td>610099</td>\n",
       "            <td>Norwood Park Elementary School</td>\n",
       "            <td>99</td>\n",
       "        </tr>\n",
       "        <tr>\n",
       "            <td>610105</td>\n",
       "            <td>Oriole Park Elementary School</td>\n",
       "            <td>99</td>\n",
       "        </tr>\n",
       "        <tr>\n",
       "            <td>610155</td>\n",
       "            <td>Sauganash Elementary School</td>\n",
       "            <td>99</td>\n",
       "        </tr>\n",
       "        <tr>\n",
       "            <td>609880</td>\n",
       "            <td>Stephen Decatur Classical Elementary School</td>\n",
       "            <td>99</td>\n",
       "        </tr>\n",
       "        <tr>\n",
       "            <td>610249</td>\n",
       "            <td>Talman Elementary School</td>\n",
       "            <td>99</td>\n",
       "        </tr>\n",
       "        <tr>\n",
       "            <td>610230</td>\n",
       "            <td>Wildwood Elementary School</td>\n",
       "            <td>99</td>\n",
       "        </tr>\n",
       "    </tbody>\n",
       "</table>"
      ],
      "text/plain": [
       "[(610038, 'Abraham Lincoln Elementary School', 99),\n",
       " (609799, 'Alexander Graham Bell Elementary School', 99),\n",
       " (610084, 'Annie Keller Elementary Gifted Magnet School', 99),\n",
       " (609820, 'Augustus H Burley Elementary School', 99),\n",
       " (610132, 'Edgar Allan Poe Elementary Classical School', 99),\n",
       " (609901, 'Edgebrook Elementary School', 99),\n",
       " (610073, 'Ellen Mitchell Elementary School', 99),\n",
       " (610066, 'James E McDade Elementary Classical School', 99),\n",
       " (609803, 'James G Blaine Elementary School', 99),\n",
       " (610033, 'LaSalle Elementary Language Academy', 99),\n",
       " (610355, 'Mary E Courtenay Elementary Language Arts Center', 99),\n",
       " (609749, 'Northside College Preparatory High School', 99),\n",
       " (609744, 'Northside Learning Center High School', 99),\n",
       " (610099, 'Norwood Park Elementary School', 99),\n",
       " (610105, 'Oriole Park Elementary School', 99),\n",
       " (610155, 'Sauganash Elementary School', 99),\n",
       " (609880, 'Stephen Decatur Classical Elementary School', 99),\n",
       " (610249, 'Talman Elementary School', 99),\n",
       " (610230, 'Wildwood Elementary School', 99)]"
      ]
     },
     "execution_count": 51,
     "metadata": {},
     "output_type": "execute_result"
    }
   ],
   "source": [
    "%sql SELECT SCHOOL_ID, NAME_OF_SCHOOL, SAFETY_SCORE \\\n",
    "FROM SCHOOLS \\\n",
    "WHERE SAFETY_SCORE IN ( \\\n",
    "    SELECT MAX(SAFETY_SCORE) \\\n",
    "    FROM SCHOOLS \\\n",
    ");"
   ]
  },
  {
   "cell_type": "markdown",
   "metadata": {},
   "source": [
    "Double-click **here** for the solution.\n",
    "\n",
    "<!-- Solution:\n",
    "In the previous problem we found out that the highest Safety Score is 99, so we can use that as an input in the where clause:\n",
    "\n",
    "%sql select Name_of_School, Safety_Score from SCHOOLS where Safety_Score = 99\n",
    "\n",
    "or, a better way:\n",
    "\n",
    "%sql select Name_of_School, Safety_Score from SCHOOLS where \\\n",
    "  Safety_Score= (select MAX(Safety_Score) from SCHOOLS)\n",
    "\n",
    "\n",
    "Correct answer: several schools with with Safety Score of 99.\n",
    "-->\n"
   ]
  },
  {
   "cell_type": "markdown",
   "metadata": {},
   "source": [
    "### Problem 4\n",
    "\n",
    "##### What are the top 10 schools with the highest \"Average Student Attendance\"?\n"
   ]
  },
  {
   "cell_type": "code",
   "execution_count": 61,
   "metadata": {},
   "outputs": [
    {
     "name": "stdout",
     "output_type": "stream",
     "text": [
      " * ibm_db_sa://qqc17779:***@815fa4db-dc03-4c70-869a-a9cc13f33084.bs2io90l08kqb1od8lcg.databases.appdomain.cloud:30367/BLUDB\n",
      "Done.\n"
     ]
    },
    {
     "data": {
      "text/plain": [
       "'\\n%sql SELECT SCHOOL_ID, NAME_OF_SCHOOL, AVERAGE_STUDENT_ATTENDANCE FROM SCHOOLS WHERE AVERAGE_STUDENT_ATTENDANCE IS NOT NULL\\nORDER BY AVERAGE_STUDENT_ATTENDANCE DESC LIMIT 10;\\n'"
      ]
     },
     "execution_count": 61,
     "metadata": {},
     "output_type": "execute_result"
    }
   ],
   "source": [
    "%sql SELECT SCHOOL_ID, NAME_OF_SCHOOL, AVERAGE_STUDENT_ATTENDANCE \\\n",
    "FROM SCHOOLS \\\n",
    "ORDER BY AVERAGE_STUDENT_ATTENDANCE DESC NULLS LAST \\\n",
    "LIMIT 10;\n",
    "\n",
    "\"\"\"\n",
    "%sql SELECT SCHOOL_ID, NAME_OF_SCHOOL, AVERAGE_STUDENT_ATTENDANCE \\\n",
    "FROM SCHOOLS \\\n",
    "WHERE AVERAGE_STUDENT_ATTENDANCE IS NOT NULL\n",
    "ORDER BY AVERAGE_STUDENT_ATTENDANCE DESC \\\n",
    "LIMIT 10;\n",
    "\"\"\""
   ]
  },
  {
   "cell_type": "markdown",
   "metadata": {},
   "source": [
    "Double-click **here** for the solution.\n",
    "\n",
    "<!-- Solution:\n",
    "\n",
    "%sql select Name_of_School, Average_Student_Attendance from SCHOOLS \\\n",
    "    order by Average_Student_Attendance desc nulls last limit 10 \n",
    "\n",
    "-->\n",
    "%sql SELECT SCHOOL_ID, NAME_OF_SCHOOL, AVERAGE_STUDENT_ATTENDANCE \\\n",
    "FROM SCHOOLS \\\n",
    "ORDER BY AVERAGE_STUDENT_ATTENDANCE ASC \\\n",
    "LIMIT 5;"
   ]
  },
  {
   "cell_type": "markdown",
   "metadata": {},
   "source": [
    "### Problem 5\n",
    "\n",
    "##### Retrieve the list of 5 Schools with the lowest Average Student Attendance sorted in ascending order based on attendance\n"
   ]
  },
  {
   "cell_type": "code",
   "execution_count": 66,
   "metadata": {},
   "outputs": [
    {
     "name": "stdout",
     "output_type": "stream",
     "text": [
      " * ibm_db_sa://qqc17779:***@815fa4db-dc03-4c70-869a-a9cc13f33084.bs2io90l08kqb1od8lcg.databases.appdomain.cloud:30367/BLUDB\n",
      "Done.\n"
     ]
    },
    {
     "data": {
      "text/html": [
       "<table>\n",
       "    <thead>\n",
       "        <tr>\n",
       "            <th>school_id</th>\n",
       "            <th>name_of_school</th>\n",
       "            <th>average_student_attendance</th>\n",
       "        </tr>\n",
       "    </thead>\n",
       "    <tbody>\n",
       "        <tr>\n",
       "            <td>609702</td>\n",
       "            <td>Richard T Crane Technical Preparatory High School</td>\n",
       "            <td>57.90%</td>\n",
       "        </tr>\n",
       "        <tr>\n",
       "            <td>609871</td>\n",
       "            <td>Barbara Vick Early Childhood &amp; Family Center</td>\n",
       "            <td>60.90%</td>\n",
       "        </tr>\n",
       "        <tr>\n",
       "            <td>609736</td>\n",
       "            <td>Dyett High School</td>\n",
       "            <td>62.50%</td>\n",
       "        </tr>\n",
       "        <tr>\n",
       "            <td>609727</td>\n",
       "            <td>Wendell Phillips Academy High School</td>\n",
       "            <td>63.00%</td>\n",
       "        </tr>\n",
       "        <tr>\n",
       "            <td>610389</td>\n",
       "            <td>Orr Academy High School</td>\n",
       "            <td>66.30%</td>\n",
       "        </tr>\n",
       "    </tbody>\n",
       "</table>"
      ],
      "text/plain": [
       "[(609702, 'Richard T Crane Technical Preparatory High School', '57.90%'),\n",
       " (609871, 'Barbara Vick Early Childhood & Family Center', '60.90%'),\n",
       " (609736, 'Dyett High School', '62.50%'),\n",
       " (609727, 'Wendell Phillips Academy High School', '63.00%'),\n",
       " (610389, 'Orr Academy High School', '66.30%')]"
      ]
     },
     "execution_count": 66,
     "metadata": {},
     "output_type": "execute_result"
    }
   ],
   "source": [
    "%sql SELECT SCHOOL_ID, NAME_OF_SCHOOL, AVERAGE_STUDENT_ATTENDANCE \\\n",
    "FROM SCHOOLS \\\n",
    "ORDER BY AVERAGE_STUDENT_ATTENDANCE ASC \\\n",
    "LIMIT 5;"
   ]
  },
  {
   "cell_type": "markdown",
   "metadata": {},
   "source": [
    "Double-click **here** for the solution.\n",
    "\n",
    "<!-- Solution:\n",
    "\n",
    "%sql SELECT Name_of_School, Average_Student_Attendance  \\\n",
    "     from SCHOOLS \\\n",
    "     order by Average_Student_Attendance \\\n",
    "     fetch first 5 rows only\n",
    "\n",
    "-->\n"
   ]
  },
  {
   "cell_type": "markdown",
   "metadata": {},
   "source": [
    "### Problem 6\n",
    "\n",
    "##### Now remove the '%' sign from the above result set for Average Student Attendance column\n"
   ]
  },
  {
   "cell_type": "code",
   "execution_count": 67,
   "metadata": {},
   "outputs": [
    {
     "name": "stdout",
     "output_type": "stream",
     "text": [
      " * ibm_db_sa://qqc17779:***@815fa4db-dc03-4c70-869a-a9cc13f33084.bs2io90l08kqb1od8lcg.databases.appdomain.cloud:30367/BLUDB\n",
      "Done.\n"
     ]
    },
    {
     "data": {
      "text/html": [
       "<table>\n",
       "    <thead>\n",
       "        <tr>\n",
       "            <th>school_id</th>\n",
       "            <th>name_of_school</th>\n",
       "            <th>3</th>\n",
       "        </tr>\n",
       "    </thead>\n",
       "    <tbody>\n",
       "        <tr>\n",
       "            <td>609702</td>\n",
       "            <td>Richard T Crane Technical Preparatory High School</td>\n",
       "            <td>57.90</td>\n",
       "        </tr>\n",
       "        <tr>\n",
       "            <td>609871</td>\n",
       "            <td>Barbara Vick Early Childhood &amp; Family Center</td>\n",
       "            <td>60.90</td>\n",
       "        </tr>\n",
       "        <tr>\n",
       "            <td>609736</td>\n",
       "            <td>Dyett High School</td>\n",
       "            <td>62.50</td>\n",
       "        </tr>\n",
       "        <tr>\n",
       "            <td>609727</td>\n",
       "            <td>Wendell Phillips Academy High School</td>\n",
       "            <td>63.00</td>\n",
       "        </tr>\n",
       "        <tr>\n",
       "            <td>610389</td>\n",
       "            <td>Orr Academy High School</td>\n",
       "            <td>66.30</td>\n",
       "        </tr>\n",
       "    </tbody>\n",
       "</table>"
      ],
      "text/plain": [
       "[(609702, 'Richard T Crane Technical Preparatory High School', '57.90'),\n",
       " (609871, 'Barbara Vick Early Childhood & Family Center', '60.90'),\n",
       " (609736, 'Dyett High School', '62.50'),\n",
       " (609727, 'Wendell Phillips Academy High School', '63.00'),\n",
       " (610389, 'Orr Academy High School', '66.30')]"
      ]
     },
     "execution_count": 67,
     "metadata": {},
     "output_type": "execute_result"
    }
   ],
   "source": [
    "%sql SELECT SCHOOL_ID, NAME_OF_SCHOOL, REPLACE(AVERAGE_STUDENT_ATTENDANCE, '%', '') \\\n",
    "FROM SCHOOLS \\\n",
    "ORDER BY AVERAGE_STUDENT_ATTENDANCE ASC \\\n",
    "LIMIT 5;"
   ]
  },
  {
   "cell_type": "markdown",
   "metadata": {},
   "source": [
    "Double-click **here** for a hint\n",
    "\n",
    "<!--\n",
    "Use the REPLACE() function to replace '%' with ''\n",
    "See documentation for this function at:\n",
    "https://www.ibm.com/support/knowledgecenter/en/SSEPGG_10.5.0/com.ibm.db2.luw.sql.ref.doc/doc/r0000843.html\n",
    "-->\n"
   ]
  },
  {
   "cell_type": "markdown",
   "metadata": {},
   "source": [
    "Double-click **here** for the solution.\n",
    "\n",
    "<!-- Hint:\n",
    "\n",
    "%sql SELECT Name_of_School, REPLACE(Average_Student_Attendance, '%', '') \\\n",
    "     from SCHOOLS \\\n",
    "     order by Average_Student_Attendance \\\n",
    "     fetch first 5 rows only\n",
    "\n",
    "-->\n"
   ]
  },
  {
   "cell_type": "markdown",
   "metadata": {},
   "source": [
    "### Problem 7\n",
    "\n",
    "##### Which Schools have Average Student Attendance lower than 70%?\n"
   ]
  },
  {
   "cell_type": "code",
   "execution_count": 78,
   "metadata": {},
   "outputs": [
    {
     "name": "stdout",
     "output_type": "stream",
     "text": [
      " * ibm_db_sa://qqc17779:***@815fa4db-dc03-4c70-869a-a9cc13f33084.bs2io90l08kqb1od8lcg.databases.appdomain.cloud:30367/BLUDB\n",
      "Done.\n"
     ]
    },
    {
     "data": {
      "text/html": [
       "<table>\n",
       "    <thead>\n",
       "        <tr>\n",
       "            <th>id</th>\n",
       "            <th>school</th>\n",
       "            <th>average_student_attendance</th>\n",
       "        </tr>\n",
       "    </thead>\n",
       "    <tbody>\n",
       "        <tr>\n",
       "            <td>609759</td>\n",
       "            <td>Roberto Clemente Community Academy High School</td>\n",
       "            <td>69.60%</td>\n",
       "        </tr>\n",
       "        <tr>\n",
       "            <td>609674</td>\n",
       "            <td>Chicago Vocational Career Academy High School</td>\n",
       "            <td>68.80%</td>\n",
       "        </tr>\n",
       "        <tr>\n",
       "            <td>609722</td>\n",
       "            <td>Manley Career Academy High School</td>\n",
       "            <td>66.80%</td>\n",
       "        </tr>\n",
       "        <tr>\n",
       "            <td>610389</td>\n",
       "            <td>Orr Academy High School</td>\n",
       "            <td>66.30%</td>\n",
       "        </tr>\n",
       "        <tr>\n",
       "            <td>609727</td>\n",
       "            <td>Wendell Phillips Academy High School</td>\n",
       "            <td>63.00%</td>\n",
       "        </tr>\n",
       "        <tr>\n",
       "            <td>609736</td>\n",
       "            <td>Dyett High School</td>\n",
       "            <td>62.50%</td>\n",
       "        </tr>\n",
       "        <tr>\n",
       "            <td>609871</td>\n",
       "            <td>Barbara Vick Early Childhood &amp; Family Center</td>\n",
       "            <td>60.90%</td>\n",
       "        </tr>\n",
       "        <tr>\n",
       "            <td>609702</td>\n",
       "            <td>Richard T Crane Technical Preparatory High School</td>\n",
       "            <td>57.90%</td>\n",
       "        </tr>\n",
       "    </tbody>\n",
       "</table>"
      ],
      "text/plain": [
       "[(609759, 'Roberto Clemente Community Academy High School', '69.60%'),\n",
       " (609674, 'Chicago Vocational Career Academy High School', '68.80%'),\n",
       " (609722, 'Manley Career Academy High School', '66.80%'),\n",
       " (610389, 'Orr Academy High School', '66.30%'),\n",
       " (609727, 'Wendell Phillips Academy High School', '63.00%'),\n",
       " (609736, 'Dyett High School', '62.50%'),\n",
       " (609871, 'Barbara Vick Early Childhood & Family Center', '60.90%'),\n",
       " (609702, 'Richard T Crane Technical Preparatory High School', '57.90%')]"
      ]
     },
     "execution_count": 78,
     "metadata": {},
     "output_type": "execute_result"
    }
   ],
   "source": [
    "%sql SELECT SCHOOL_ID AS ID, NAME_OF_SCHOOL AS SCHOOL, AVERAGE_STUDENT_ATTENDANCE \\\n",
    "FROM SCHOOLS \\\n",
    "WHERE CAST(REPLACE(AVERAGE_STUDENT_ATTENDANCE, '%', '') AS FLOAT) < 70 \\\n",
    "ORDER BY AVERAGE_STUDENT_ATTENDANCE DESC;"
   ]
  },
  {
   "cell_type": "markdown",
   "metadata": {},
   "source": [
    "Double-click **here** for a hint\n",
    "\n",
    "<!--\n",
    "The datatype of the \"Average_Student_Attendance\" column is varchar.\n",
    "So you cannot use it as is in the where clause for a numeric comparison.\n",
    "First use the CAST() function to cast it as a DECIMAL or DOUBLE\n",
    "e.g. CAST(\"Column_Name\" as DOUBLE)\n",
    "or simply: DECIMAL(\"Column_Name\")\n",
    "-->\n"
   ]
  },
  {
   "cell_type": "markdown",
   "metadata": {},
   "source": [
    "Double-click **here** for another hint\n",
    "\n",
    "<!--\n",
    "Don't forget the '%' age sign needs to be removed before casting\n",
    "-->\n"
   ]
  },
  {
   "cell_type": "markdown",
   "metadata": {},
   "source": [
    "Double-click **here** for the solution.\n",
    "\n",
    "<!-- Solution:\n",
    "\n",
    "%sql SELECT Name_of_School, Average_Student_Attendance  \\\n",
    "     from SCHOOLS \\\n",
    "     where CAST ( REPLACE(Average_Student_Attendance, '%', '') AS DOUBLE ) < 70 \\\n",
    "     order by Average_Student_Attendance\n",
    "     \n",
    "or,\n",
    "\n",
    "%sql SELECT Name_of_School, Average_Student_Attendance  \\\n",
    "     from SCHOOLS \\\n",
    "     where DECIMAL ( REPLACE(Average_Student_Attendance, '%', '') ) < 70 \\\n",
    "     order by Average_Student_Attendance\n",
    "\n",
    "-->\n"
   ]
  },
  {
   "cell_type": "markdown",
   "metadata": {},
   "source": [
    "### Problem 8\n",
    "\n",
    "##### Get the total College Enrollment for each Community Area\n"
   ]
  },
  {
   "cell_type": "code",
   "execution_count": 81,
   "metadata": {},
   "outputs": [
    {
     "name": "stdout",
     "output_type": "stream",
     "text": [
      " * ibm_db_sa://qqc17779:***@815fa4db-dc03-4c70-869a-a9cc13f33084.bs2io90l08kqb1od8lcg.databases.appdomain.cloud:30367/BLUDB\n",
      "Done.\n"
     ]
    },
    {
     "data": {
      "text/html": [
       "<table>\n",
       "    <thead>\n",
       "        <tr>\n",
       "            <th>community_area_name</th>\n",
       "            <th>enrollment_total</th>\n",
       "        </tr>\n",
       "    </thead>\n",
       "    <tbody>\n",
       "        <tr>\n",
       "            <td>SOUTH LAWNDALE</td>\n",
       "            <td>14793</td>\n",
       "        </tr>\n",
       "        <tr>\n",
       "            <td>BELMONT CRAGIN</td>\n",
       "            <td>14386</td>\n",
       "        </tr>\n",
       "        <tr>\n",
       "            <td>AUSTIN</td>\n",
       "            <td>10933</td>\n",
       "        </tr>\n",
       "        <tr>\n",
       "            <td>GAGE PARK</td>\n",
       "            <td>9915</td>\n",
       "        </tr>\n",
       "        <tr>\n",
       "            <td>BRIGHTON PARK</td>\n",
       "            <td>9647</td>\n",
       "        </tr>\n",
       "        <tr>\n",
       "            <td>WEST TOWN</td>\n",
       "            <td>9429</td>\n",
       "        </tr>\n",
       "        <tr>\n",
       "            <td>HUMBOLDT PARK</td>\n",
       "            <td>8620</td>\n",
       "        </tr>\n",
       "        <tr>\n",
       "            <td>WEST RIDGE</td>\n",
       "            <td>8197</td>\n",
       "        </tr>\n",
       "        <tr>\n",
       "            <td>NEAR WEST SIDE</td>\n",
       "            <td>7975</td>\n",
       "        </tr>\n",
       "        <tr>\n",
       "            <td>NEW CITY</td>\n",
       "            <td>7922</td>\n",
       "        </tr>\n",
       "    </tbody>\n",
       "</table>"
      ],
      "text/plain": [
       "[('SOUTH LAWNDALE', 14793),\n",
       " ('BELMONT CRAGIN', 14386),\n",
       " ('AUSTIN', 10933),\n",
       " ('GAGE PARK', 9915),\n",
       " ('BRIGHTON PARK', 9647),\n",
       " ('WEST TOWN', 9429),\n",
       " ('HUMBOLDT PARK', 8620),\n",
       " ('WEST RIDGE', 8197),\n",
       " ('NEAR WEST SIDE', 7975),\n",
       " ('NEW CITY', 7922)]"
      ]
     },
     "execution_count": 81,
     "metadata": {},
     "output_type": "execute_result"
    }
   ],
   "source": [
    "%sql SELECT COMMUNITY_AREA_NAME, SUM(COLLEGE_ENROLLMENT) AS ENROLLMENT_TOTAL \\\n",
    "FROM SCHOOLS \\\n",
    "GROUP BY COMMUNITY_AREA_NAME \\\n",
    "ORDER BY ENROLLMENT_TOTAL DESC \\\n",
    "LIMIT 10;"
   ]
  },
  {
   "cell_type": "markdown",
   "metadata": {},
   "source": [
    "Double-click **here** for a hint\n",
    "\n",
    "<!--\n",
    "Verify the exact name of the Enrollment column in the database\n",
    "Use the SUM() function to add up the Enrollments for each Community Area\n",
    "-->\n"
   ]
  },
  {
   "cell_type": "markdown",
   "metadata": {},
   "source": [
    "Double-click **here** for another hint\n",
    "\n",
    "<!--\n",
    "Don't forget to group by the Community Area\n",
    "-->\n"
   ]
  },
  {
   "cell_type": "markdown",
   "metadata": {},
   "source": [
    "Double-click **here** for the solution.\n",
    "\n",
    "<!-- Solution:\n",
    "\n",
    "%sql select Community_Area_Name, sum(College_Enrollment) AS TOTAL_ENROLLMENT \\\n",
    "   from SCHOOLS \\\n",
    "   group by Community_Area_Name \n",
    "\n",
    "-->\n"
   ]
  },
  {
   "cell_type": "markdown",
   "metadata": {},
   "source": [
    "### Problem 9\n",
    "\n",
    "##### Get the 5 Community Areas with the least total College Enrollment  sorted in ascending order\n"
   ]
  },
  {
   "cell_type": "code",
   "execution_count": 82,
   "metadata": {},
   "outputs": [
    {
     "name": "stdout",
     "output_type": "stream",
     "text": [
      " * ibm_db_sa://qqc17779:***@815fa4db-dc03-4c70-869a-a9cc13f33084.bs2io90l08kqb1od8lcg.databases.appdomain.cloud:30367/BLUDB\n",
      "Done.\n"
     ]
    },
    {
     "data": {
      "text/html": [
       "<table>\n",
       "    <thead>\n",
       "        <tr>\n",
       "            <th>community_area_name</th>\n",
       "            <th>total_enrollment</th>\n",
       "        </tr>\n",
       "    </thead>\n",
       "    <tbody>\n",
       "        <tr>\n",
       "            <td>OAKLAND</td>\n",
       "            <td>140</td>\n",
       "        </tr>\n",
       "        <tr>\n",
       "            <td>FULLER PARK</td>\n",
       "            <td>531</td>\n",
       "        </tr>\n",
       "        <tr>\n",
       "            <td>BURNSIDE</td>\n",
       "            <td>549</td>\n",
       "        </tr>\n",
       "        <tr>\n",
       "            <td>OHARE</td>\n",
       "            <td>786</td>\n",
       "        </tr>\n",
       "        <tr>\n",
       "            <td>LOOP</td>\n",
       "            <td>871</td>\n",
       "        </tr>\n",
       "    </tbody>\n",
       "</table>"
      ],
      "text/plain": [
       "[('OAKLAND', 140),\n",
       " ('FULLER PARK', 531),\n",
       " ('BURNSIDE', 549),\n",
       " ('OHARE', 786),\n",
       " ('LOOP', 871)]"
      ]
     },
     "execution_count": 82,
     "metadata": {},
     "output_type": "execute_result"
    }
   ],
   "source": [
    "%sql SELECT COMMUNITY_AREA_NAME, SUM(COLLEGE_ENROLLMENT) AS TOTAL_ENROLLMENT \\\n",
    "FROM SCHOOLS \\\n",
    "GROUP BY COMMUNITY_AREA_NAME \\\n",
    "ORDER BY TOTAL_ENROLLMENT \\\n",
    "LIMIT 5;"
   ]
  },
  {
   "cell_type": "markdown",
   "metadata": {},
   "source": [
    "Double-click **here** for a hint\n",
    "\n",
    "<!--\n",
    "Order the previous query and limit the number of rows you fetch\n",
    "-->\n"
   ]
  },
  {
   "cell_type": "markdown",
   "metadata": {},
   "source": [
    "Double-click **here** for the solution.\n",
    "\n",
    "<!-- Solution:\n",
    "\n",
    "%sql select Community_Area_Name, sum(College_Enrollment) AS TOTAL_ENROLLMENT \\\n",
    "   from SCHOOLS \\\n",
    "   group by Community_Area_Name \\\n",
    "   order by TOTAL_ENROLLMENT asc \\\n",
    "   fetch first 5 rows only\n",
    "\n",
    "-->\n"
   ]
  },
  {
   "cell_type": "markdown",
   "metadata": {},
   "source": [
    "### Problem 10\n",
    "\n",
    "##### List 5 schools with lowest safety score.\n"
   ]
  },
  {
   "cell_type": "code",
   "execution_count": 83,
   "metadata": {},
   "outputs": [
    {
     "name": "stdout",
     "output_type": "stream",
     "text": [
      " * ibm_db_sa://qqc17779:***@815fa4db-dc03-4c70-869a-a9cc13f33084.bs2io90l08kqb1od8lcg.databases.appdomain.cloud:30367/BLUDB\n",
      "Done.\n"
     ]
    },
    {
     "data": {
      "text/html": [
       "<table>\n",
       "    <thead>\n",
       "        <tr>\n",
       "            <th>id</th>\n",
       "            <th>school</th>\n",
       "            <th>safety_score</th>\n",
       "        </tr>\n",
       "    </thead>\n",
       "    <tbody>\n",
       "        <tr>\n",
       "            <td>609819</td>\n",
       "            <td>Edmond Burke Elementary School</td>\n",
       "            <td>1</td>\n",
       "        </tr>\n",
       "        <tr>\n",
       "            <td>610108</td>\n",
       "            <td>Luke O&#x27;Toole Elementary School</td>\n",
       "            <td>5</td>\n",
       "        </tr>\n",
       "        <tr>\n",
       "            <td>610202</td>\n",
       "            <td>George W Tilton Elementary School</td>\n",
       "            <td>6</td>\n",
       "        </tr>\n",
       "        <tr>\n",
       "            <td>609927</td>\n",
       "            <td>Foster Park Elementary School</td>\n",
       "            <td>11</td>\n",
       "        </tr>\n",
       "        <tr>\n",
       "            <td>609712</td>\n",
       "            <td>Emil G Hirsch Metropolitan High School</td>\n",
       "            <td>13</td>\n",
       "        </tr>\n",
       "    </tbody>\n",
       "</table>"
      ],
      "text/plain": [
       "[(609819, 'Edmond Burke Elementary School', 1),\n",
       " (610108, \"Luke O'Toole Elementary School\", 5),\n",
       " (610202, 'George W Tilton Elementary School', 6),\n",
       " (609927, 'Foster Park Elementary School', 11),\n",
       " (609712, 'Emil G Hirsch Metropolitan High School', 13)]"
      ]
     },
     "execution_count": 83,
     "metadata": {},
     "output_type": "execute_result"
    }
   ],
   "source": [
    "%sql SELECT SCHOOL_ID AS ID, NAME_OF_SCHOOL AS SCHOOL, SAFETY_SCORE \\\n",
    "FROM SCHOOLS \\\n",
    "ORDER BY SAFETY_SCORE \\\n",
    "LIMIT 5;"
   ]
  },
  {
   "cell_type": "markdown",
   "metadata": {},
   "source": [
    "Double-click **here** for the solution.\n",
    "\n",
    "<!-- Solution:\n",
    "\n",
    "%sql SELECT name_of_school, safety_score \\\n",
    "FROM schools \\\n",
    "ORDER BY safety_score \\\n",
    "LIMIT 5\n",
    "-->\n"
   ]
  },
  {
   "cell_type": "markdown",
   "metadata": {},
   "source": [
    "### Problem 11\n",
    "\n",
    "##### Get the hardship index for the community area which has College Enrollment of 4368\n"
   ]
  },
  {
   "cell_type": "code",
   "execution_count": 91,
   "metadata": {},
   "outputs": [
    {
     "name": "stdout",
     "output_type": "stream",
     "text": [
      " * ibm_db_sa://qqc17779:***@815fa4db-dc03-4c70-869a-a9cc13f33084.bs2io90l08kqb1od8lcg.databases.appdomain.cloud:30367/BLUDB\n",
      "Done.\n"
     ]
    },
    {
     "data": {
      "text/html": [
       "<table>\n",
       "    <thead>\n",
       "        <tr>\n",
       "            <th>school_id</th>\n",
       "            <th>name_of_school</th>\n",
       "            <th>hardship_index</th>\n",
       "        </tr>\n",
       "    </thead>\n",
       "    <tbody>\n",
       "        <tr>\n",
       "            <td>609720</td>\n",
       "            <td>Albert G Lane Technical High School</td>\n",
       "            <td>6.0</td>\n",
       "        </tr>\n",
       "    </tbody>\n",
       "</table>"
      ],
      "text/plain": [
       "[(609720, 'Albert G Lane Technical High School', 6.0)]"
      ]
     },
     "execution_count": 91,
     "metadata": {},
     "output_type": "execute_result"
    }
   ],
   "source": [
    "%sql SELECT s.school_id, s.name_of_school, csd.hardship_index \\\n",
    "FROM CHICAGO_SOCIOECONOMIC_DATA CSD \\\n",
    "JOIN SCHOOLS S \\\n",
    "ON CSD.ca = S.COMMUNITY_AREA_NUMBER \\\n",
    "WHERE S.COLLEGE_ENROLLMENT = 4368"
   ]
  },
  {
   "cell_type": "markdown",
   "metadata": {},
   "source": [
    "Double-click **here** for the solution.\n",
    "\n",
    "<!-- Solution:\n",
    "NOTE: For this solution to work the CHICAGO_SOCIOECONOMIC_DATA table \n",
    "      as created in the last lab of Week 3 should already exist\n",
    "\n",
    "%%sql \n",
    "select hardship_index \n",
    "   from chicago_socioeconomic_data CD, schools CPS \n",
    "   where CD.ca = CPS.community_area_number \n",
    "      and college_enrollment = 4368\n",
    "\n",
    "-->\n"
   ]
  },
  {
   "cell_type": "markdown",
   "metadata": {},
   "source": [
    "### Problem 12\n",
    "\n",
    "##### Get the hardship index for the community area which has the school with the  highest enrollment.\n"
   ]
  },
  {
   "cell_type": "code",
   "execution_count": 6,
   "metadata": {},
   "outputs": [
    {
     "name": "stdout",
     "output_type": "stream",
     "text": [
      " * ibm_db_sa://qqc17779:***@815fa4db-dc03-4c70-869a-a9cc13f33084.bs2io90l08kqb1od8lcg.databases.appdomain.cloud:30367/BLUDB\n",
      "Done.\n"
     ]
    },
    {
     "data": {
      "text/html": [
       "<table>\n",
       "    <thead>\n",
       "        <tr>\n",
       "            <th>ca</th>\n",
       "            <th>school_id</th>\n",
       "            <th>name_of_school</th>\n",
       "            <th>community_area_name</th>\n",
       "            <th>hardship_index</th>\n",
       "        </tr>\n",
       "    </thead>\n",
       "    <tbody>\n",
       "        <tr>\n",
       "            <td>5.0</td>\n",
       "            <td>609720</td>\n",
       "            <td>Albert G Lane Technical High School</td>\n",
       "            <td>NORTH CENTER</td>\n",
       "            <td>6.0</td>\n",
       "        </tr>\n",
       "    </tbody>\n",
       "</table>"
      ],
      "text/plain": [
       "[(5.0, 609720, 'Albert G Lane Technical High School', 'NORTH CENTER', 6.0)]"
      ]
     },
     "execution_count": 6,
     "metadata": {},
     "output_type": "execute_result"
    }
   ],
   "source": [
    "%sql SELECT csd.ca, s.school_id, s.name_of_school, s.community_area_name, csd.hardship_index \\\n",
    "FROM chicago_socioeconomic_data csd \\\n",
    "JOIN schools s \\\n",
    "ON csd.ca = s.community_area_number \\\n",
    "WHERE s.college_enrollment = ( \\\n",
    "    SELECT MAX(college_enrollment) \\\n",
    "    FROM schools \\\n",
    ");"
   ]
  },
  {
   "cell_type": "markdown",
   "metadata": {},
   "source": [
    "Double-click **here** for the solution.\n",
    "\n",
    "<!-- Solution:\n",
    "NOTE: For this solution to work the CHICAGO_SOCIOECONOMIC_DATA table \n",
    "      as created in the last lab of Week 3 should already exist\n",
    "\n",
    "%sql select ca, community_area_name, hardship_index from chicago_socioeconomic_data \\\n",
    "   where ca in \\\n",
    "   ( select community_area_number from schools order by college_enrollment desc limit 1 )\n",
    "\n",
    "-->\n"
   ]
  },
  {
   "cell_type": "markdown",
   "metadata": {},
   "source": [
    "## Summary\n",
    "\n",
    "##### In this lab you learned how to work with a real word dataset using SQL and Python. You learned how to query columns with spaces or special characters in their names and with mixed case names. You also used built in database functions and practiced how to sort, limit, and order result sets, as well as used sub-queries and worked with multiple tables.\n"
   ]
  },
  {
   "cell_type": "markdown",
   "metadata": {},
   "source": [
    "## Author\n",
    "\n",
    "<a href=\"https://www.linkedin.com/in/ravahuja/?utm_medium=Exinfluencer&utm_source=Exinfluencer&utm_content=000026UJ&utm_term=10006555&utm_id=NA-SkillsNetwork-Channel-SkillsNetworkCoursesIBMDeveloperSkillsNetworkDB0201ENSkillsNetwork20127838-2021-01-01\" target=\"_blank\">Rav Ahuja</a>\n",
    "\n",
    "## Change Log\n",
    "\n",
    "| Date (YYYY-MM-DD) | Version | Changed By        | Change Description                        |\n",
    "| ----------------- | ------- | ----------------- | ----------------------------------------- |\n",
    "| 2021-07-09        | 2.4     | Malika            | Updated connection string                 |\n",
    "| 2021-05-19        | 2.3     | Lakshmi Holla     | Updated question                          |\n",
    "| 2021-04-20        | 2.2     | Malika            | Added the libraries                       |\n",
    "| 2020-11-27        | 2.1     | Sannareddy Ramesh | Modified data sets and added new problems |\n",
    "| 2020-08-28        | 2.0     | Lavanya           | Moved lab to course repo in GitLab        |\n",
    "\n",
    "<hr>\n",
    "\n",
    "## <h3 align=\"center\"> © IBM Corporation 2020. All rights reserved. <h3/>\n"
   ]
  }
 ],
 "metadata": {
  "celltoolbar": "Raw Cell Format",
  "kernelspec": {
   "display_name": "Python",
   "language": "python",
   "name": "conda-env-python-py"
  },
  "language_info": {
   "codemirror_mode": {
    "name": "ipython",
    "version": 3
   },
   "file_extension": ".py",
   "mimetype": "text/x-python",
   "name": "python",
   "nbconvert_exporter": "python",
   "pygments_lexer": "ipython3",
   "version": "3.7.12"
  },
  "widgets": {
   "state": {},
   "version": "1.1.2"
  }
 },
 "nbformat": 4,
 "nbformat_minor": 4
}
